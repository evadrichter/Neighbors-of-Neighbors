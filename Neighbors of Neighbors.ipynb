{
 "cells": [
  {
   "cell_type": "code",
   "execution_count": 77,
   "metadata": {},
   "outputs": [
    {
     "name": "stdout",
     "output_type": "stream",
     "text": [
      "['City of London', 'Camden', 'Hackney', 'Haringey']\n",
      "['Tower Hamlets', 'Westminster', 'Camden', 'Hackney', 'City of London', 'Haringey', 'Brent', 'Barnet', 'Waltham Forest', 'Newham', 'Enfield']\n"
     ]
    }
   ],
   "source": [
    "# Eva Richter\n",
    "# This code calculates the spatially adoint items to the spatially adoint items of a designated area\n",
    "\n",
    "# Import relevant modules: \n",
    "import pandas as pd\n",
    "import matplotlib as plt\n",
    "import matplotlib.pyplot as plt\n",
    "from geopandas import GeoDataFrame\n",
    "import esda\n",
    "import pysal as ps\n",
    "import pysal.explore\n",
    "import libpysal as lps\n",
    "from libpysal.weights import Queen\n",
    "import numpy as np\n",
    "from esda.moran import Moran, Moran_Local\n",
    "import fiona\n",
    "import splot\n",
    "from splot.esda import moran_scatterplot, plot_moran, lisa_cluster\n",
    "from esda.moran import Moran\n",
    "from esda.moran import Moran_Local\n",
    "import matplotlib.pyplot as plt\n",
    "from shapely.geometry import Point\n",
    "import matplotlib as mpl\n",
    "\n",
    "\n",
    "class SpatialNeighbors:\n",
    "    \"\"\"This class calculates spatial neighbors and neighbors of neighbors\n",
    "    shapefile: GeoDataFrame of entire area\n",
    "    ID: unique in the dataset\"\"\"\n",
    "    def __init__(self, shapefile, ID):\n",
    "        self.shapefile = shapefile \n",
    "        self.ID = ID\n",
    "        \n",
    "    def calculateNeighbors(self, core_area):\n",
    "        # create spatial weighting matrix:\n",
    "        w = lps.weights.Queen.from_dataframe(self.shapefile, idVariable=self.ID)\n",
    "        w.transform = \"R\"\n",
    "        neighbors_matrix = w[core_area]\n",
    "        neighbors = [*neighbors_matrix] # transform dictionary into list\n",
    "        return neighbors\n",
    "    \n",
    "    def NeighborsofNeighbors(self, core_area):\n",
    "        # use previous function to calculate neighbors of core area\n",
    "        n_list = self.calculateNeighbors(core_area)\n",
    "        print(n_list)\n",
    "        n_n_list = []\n",
    "        # for each neighbor of the core area, we need a list of neighbors:\n",
    "        for neighbor in n_list:\n",
    "            n_n = self.calculateNeighbors(neighbor)\n",
    "            for n_neighbor in n_n:\n",
    "                if n_neighbor not in (n_list and n_n_list) and n_neighbor != core_area:\n",
    "                    n_n_list.append(n_neighbor)\n",
    "        return n_n_list\n",
    "    \n",
    "\n",
    "london = gpd.read_file(\"London_Borough_Excluding_MHW.shp\")\n",
    "london_n = SpatialNeighbors(london, \"NAME\")\n",
    "w = london_n.NeighborsofNeighbors(\"Islington\")\n",
    "print(w)\n"
   ]
  },
  {
   "cell_type": "code",
   "execution_count": null,
   "metadata": {},
   "outputs": [],
   "source": []
  }
 ],
 "metadata": {
  "kernelspec": {
   "display_name": "Python 3",
   "language": "python",
   "name": "python3"
  },
  "language_info": {
   "codemirror_mode": {
    "name": "ipython",
    "version": 3
   },
   "file_extension": ".py",
   "mimetype": "text/x-python",
   "name": "python",
   "nbconvert_exporter": "python",
   "pygments_lexer": "ipython3",
   "version": "3.8.3"
  }
 },
 "nbformat": 4,
 "nbformat_minor": 4
}
